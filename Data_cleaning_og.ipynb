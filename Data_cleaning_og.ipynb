{
 "cells": [
  {
   "cell_type": "markdown",
   "id": "d6c5e9f1-af74-4999-8c31-e896a889ddf3",
   "metadata": {},
   "source": [
    "# DATA CLEANING"
   ]
  },
  {
   "cell_type": "markdown",
   "id": "a31f10db-741b-48a8-a30e-b9234bfa5966",
   "metadata": {},
   "source": [
    "In this notebook we are going to perform cleaning tasks to this messy csv by doing the following tasks:\n",
    "\n",
    "- Remove columns that would not have any impact in our analysis\n",
    "- Remove empety rows: In the exploratory notebook we noticed that we had nearly a 75% of empty rows \n",
    "- Perform changes within the columns so the variables are clean\n"
   ]
  },
  {
   "cell_type": "markdown",
   "id": "0d175e18-5a2a-4168-9141-917f24976a7b",
   "metadata": {},
   "source": [
    "## Importing libraries and data from the csv"
   ]
  },
  {
   "cell_type": "code",
   "execution_count": 1,
   "id": "9f07ed91-f9ca-4898-a8ad-cc4806163163",
   "metadata": {},
   "outputs": [],
   "source": [
    "import pandas as pd\n",
    "import numpy as np \n",
    "import re\n",
    "\n",
    "df = pd.read_csv(r\"C:\\Users\\DavidVicente\\Desktop\\IronHack\\Projects\\Project 1\\attacks.csv\", encoding=\"latin\")\n"
   ]
  },
  {
   "cell_type": "markdown",
   "id": "35fc5b1e-bc6b-4e13-af75-efc584372b47",
   "metadata": {},
   "source": [
    "## Remove non-wanted columns"
   ]
  },
  {
   "cell_type": "markdown",
   "id": "0bddfa40-158a-4852-aa20-e033fdd24ed1",
   "metadata": {},
   "source": [
    "After checking every single column of the dataframe we have found that some of the columns don't add any value, so we have decided to remove them. Here is a summary\n",
    "\n",
    "- **Case Number** : For the name of the column you cound deduce that it contains an unique id, but it does not. This column is a \"dirty version\" of the column date, so we have decided to get rid of it. \n",
    "- **Unnamed: 22 & Unnamed** : 23: Both columns are empty, so we will also deleate them. \n",
    "- **Investigator or Source** : Name of the investigator or source won't be relevant for our analysis\n",
    "- **pdf** : Not relevant. It is a concat of the name and date\n",
    "- **href & href formula** : Contains a link with the pdf of the attack. We won't need it\n",
    "- **Oringinal order**: No clue what this is \n",
    "- **Case number 1 & 2**: We will also get rid of these two columns"
   ]
  },
  {
   "cell_type": "code",
   "execution_count": 2,
   "id": "2b37602c-3d3a-46cf-9c8a-a94f694c69ff",
   "metadata": {},
   "outputs": [
    {
     "data": {
      "text/plain": [
       "Index(['Case Number', 'Date', 'Year', 'Type', 'Country', 'Area', 'Location',\n",
       "       'Activity', 'Name', 'Sex ', 'Age', 'Injury', 'Fatal (Y/N)', 'Time',\n",
       "       'Species ', 'Investigator or Source', 'pdf', 'href formula', 'href',\n",
       "       'Case Number.1', 'Case Number.2', 'original order', 'Unnamed: 22',\n",
       "       'Unnamed: 23'],\n",
       "      dtype='object')"
      ]
     },
     "execution_count": 2,
     "metadata": {},
     "output_type": "execute_result"
    }
   ],
   "source": []
  },
  {
   "cell_type": "markdown",
   "id": "1d3b8d34-06ba-45fb-9d5a-95b3d7738c33",
   "metadata": {},
   "source": [
    "### Dropping non-wanted columns"
   ]
  },
  {
   "cell_type": "markdown",
   "id": "c9da9c4b-7eaf-4b9c-a1c8-23ff6e66de20",
   "metadata": {},
   "source": [
    "Now, we are going the get ridd of the columns shared before"
   ]
  },
  {
   "cell_type": "code",
   "execution_count": 3,
   "id": "7b00f174-444f-4083-903d-9125e5318657",
   "metadata": {},
   "outputs": [
    {
     "data": {
      "text/plain": [
       "Index(['Case Number', 'Date', 'Year', 'Type', 'Country', 'Area', 'Location',\n",
       "       'Activity', 'Name', 'Sex ', 'Age', 'Injury', 'Fatal (Y/N)', 'Time',\n",
       "       'Species ', 'Investigator or Source', 'pdf', 'href formula', 'href',\n",
       "       'Case Number.1', 'Case Number.2', 'original order', 'Unnamed: 22',\n",
       "       'Unnamed: 23'],\n",
       "      dtype='object')"
      ]
     },
     "execution_count": 3,
     "metadata": {},
     "output_type": "execute_result"
    }
   ],
   "source": []
  },
  {
   "cell_type": "code",
   "execution_count": 4,
   "id": "78428f97-3ab8-4b6d-b49d-0a5c8d8a0d06",
   "metadata": {},
   "outputs": [
    {
     "data": {
      "text/plain": [
       "Index(['Date', 'Year', 'Type', 'Country', 'Area', 'Location', 'Activity',\n",
       "       'Name', 'Sex ', 'Age', 'Injury', 'Fatal (Y/N)', 'Time', 'Species '],\n",
       "      dtype='object')"
      ]
     },
     "execution_count": 4,
     "metadata": {},
     "output_type": "execute_result"
    }
   ],
   "source": [
    "# using drop: https://pandas.pydata.org/docs/reference/api/pandas.DataFrame.drop.html\n",
    "\n",
    "df.drop([\"Case Number\",\"Unnamed: 22\",\"Unnamed: 23\",\"Investigator or Source\",\"pdf\",\"href formula\",\"href\",\"original order\",\"Case Number.1\",\"Case Number.2\" ],axis=1 ,inplace=True)\n"
   ]
  },
  {
   "cell_type": "markdown",
   "id": "38a92086-0afe-43d4-8964-3c87dcc24880",
   "metadata": {},
   "source": [
    "## Removing empty rows"
   ]
  },
  {
   "cell_type": "markdown",
   "id": "3f08d695-0052-4488-a645-74851d22279c",
   "metadata": {},
   "source": [
    "In the first exploratory analysis we saw that this df has a lot of nan values. Now, we will look at the exat number and remove all the rows that don't content any information at all. "
   ]
  },
  {
   "cell_type": "markdown",
   "id": "f21d3275-5e07-4de4-bb00-84d2a9fd0ec6",
   "metadata": {},
   "source": [
    "### Checking proportion of nan values in the df"
   ]
  },
  {
   "cell_type": "code",
   "execution_count": 5,
   "id": "5c05096f-768c-4d35-a1d4-99389d4f23b1",
   "metadata": {},
   "outputs": [
    {
     "name": "stdout",
     "output_type": "stream",
     "text": [
      "Percentage of nan values within the column: \n",
      " \n",
      " Date           75.50\n",
      "Year           75.51\n",
      "Type           75.52\n",
      "Country        75.69\n",
      "Area           77.27\n",
      "Location       77.60\n",
      "Activity       77.62\n",
      "Name           76.32\n",
      "Sex            77.70\n",
      "Age            86.51\n",
      "Injury         75.61\n",
      "Fatal (Y/N)    77.60\n",
      "Time           88.54\n",
      "Species        86.53\n",
      "dtype: float64%\n"
     ]
    }
   ],
   "source": [
    "nan_values = round(100*(df.isnull().sum() / len(df)),2)\n",
    "print(f\"Percentage of nan values within the column: \\n \\n {nan_values}%\")"
   ]
  },
  {
   "cell_type": "markdown",
   "id": "2cb7a7fe-7246-4d4f-81e9-76c807324295",
   "metadata": {},
   "source": [
    "### Dropping nan rows\n",
    "\n",
    "- We are going to drop all the rows that don't contain any data."
   ]
  },
  {
   "cell_type": "code",
   "execution_count": 6,
   "id": "351814cb-d7c8-4b7d-8768-f13fc6d179c6",
   "metadata": {},
   "outputs": [
    {
     "data": {
      "text/plain": [
       "(25723, 14)"
      ]
     },
     "execution_count": 6,
     "metadata": {},
     "output_type": "execute_result"
    }
   ],
   "source": [
    "#Checking shape before removing the rows\n",
    "\n",
    "df.shape"
   ]
  },
  {
   "cell_type": "code",
   "execution_count": 7,
   "id": "f87d3f32-8016-4b79-bad8-972ea134ba24",
   "metadata": {},
   "outputs": [
    {
     "data": {
      "text/plain": [
       "(6302, 14)"
      ]
     },
     "execution_count": 7,
     "metadata": {},
     "output_type": "execute_result"
    }
   ],
   "source": [
    "# DROPNA: https://pandas.pydata.org/docs/reference/api/pandas.DataFrame.dropna.html\n",
    "\n",
    "df.dropna(axis=0,how=\"all\",inplace=True)\n",
    "df.shape"
   ]
  },
  {
   "cell_type": "markdown",
   "id": "94f85633-5cb8-4ad5-9e66-84dd19c5c77a",
   "metadata": {},
   "source": [
    "Checking the % of values in each column from the updated dataframe"
   ]
  },
  {
   "cell_type": "code",
   "execution_count": 8,
   "id": "9a665e29-5249-4f74-aa98-2bd396093c28",
   "metadata": {},
   "outputs": [
    {
     "name": "stdout",
     "output_type": "stream",
     "text": [
      "Percentage of nan values within the column: \n",
      " \n",
      " Date            0.00\n",
      "Year            0.03\n",
      "Type            0.06\n",
      "Country         0.79\n",
      "Area            7.22\n",
      "Location        8.57\n",
      "Activity        8.63\n",
      "Name            3.33\n",
      "Sex             8.97\n",
      "Age            44.92\n",
      "Injury          0.44\n",
      "Fatal (Y/N)     8.55\n",
      "Time           53.22\n",
      "Species        45.03\n",
      "dtype: float64%\n"
     ]
    }
   ],
   "source": [
    "nan_values = round(100*(df.isnull().sum() / len(df)),2)\n",
    "print(f\"Percentage of nan values within the column: \\n \\n {nan_values}%\")"
   ]
  },
  {
   "cell_type": "markdown",
   "id": "7a80f6cd-0109-41ff-bc52-3ce427640353",
   "metadata": {},
   "source": [
    "## Column cleaning"
   ]
  },
  {
   "cell_type": "markdown",
   "id": "ff0f8d71-2161-4d75-ad1d-a9efe37e6e66",
   "metadata": {},
   "source": [
    "### Function to check column values"
   ]
  },
  {
   "cell_type": "markdown",
   "id": "ead80934-05fe-4df4-bb06-ddedaffe71c7",
   "metadata": {},
   "source": [
    "We have created a function that enables us to have a quick look at some relevant kpi's from a column and its values. Fins below the information we are extracting with this function:\n",
    "\n",
    "- TOTAL NUMBER OF ROWS\n",
    "- NUMBER OF UNIQUE VALUES\n",
    "- NUMBER OF UNIQUE VALUES DIVIDED BY TOTAL VALUES\n",
    "- % OF NAN VALUES IS\n",
    "- COLUMN DATA TYPE\n",
    "- COLUMN UNIQUE VALUES\n",
    "- VARIABLE WEIGHT WITHIN THE TOTAL OF THE COLUMN"
   ]
  },
  {
   "cell_type": "code",
   "execution_count": 9,
   "id": "e1a1c500-46e8-4d82-94bc-7e543bcb9259",
   "metadata": {},
   "outputs": [],
   "source": [
    "def column_explore (x):\n",
    "    \n",
    "    print(\"TOTAL NUMBER OF ROWS: \",len(x),\"\\n\")\n",
    "    print(\"- - - - - - - - - - - - - - - - - - - - - - - - - - - - - - - - - - - - -\\n\")\n",
    "    print(\"NUMBER OF UNIQUE VALUES:\",x.nunique(),\"\\n\")\n",
    "    print(\"- - - - - - - - - - - - - - - - - - - - - - - - - - - - - - - - - - - - - \\n\")\n",
    "    print(\"NUMBER OF UNIQUE VALUES DIVIDED BY TOTAL VALUES:\",round((x.nunique()/len(x)*100),2),\"%\\n\")\n",
    "    print(\"- - - - - - - - - - - - - - - - - - - - - - - - - - - - - - - - - - - - - \\n\")\n",
    "    print(\"% OF NAN VALUES IS: \",round(100*(x.isnull().sum() / len(x)),2),\"%\\n\")\n",
    "    print(\"- - - - - - - - - - - - - - - - - - - - - - - - - - - - - - - - - - - - - \\n\")\n",
    "    print(\"COLUMN DATA TYPE: \",x.dtype,\"\\n\")\n",
    "    print(\"- - - - - - - - - - - - - - - - - - - - - - - - - - - - - - - - - - - - - \\n\")\n",
    "    print(\"COLUMN UNIQUE VALUES: \\n \\n\",x.unique(),\"\\n\")\n",
    "    print(\"- - - - - - - - - - - - - - - - - - - - - - - - - - - - - - - - - - - - - \\n\")\n",
    "    print(\"VARIABLE WEIGHT WITHIN THE TOTAL OF THE COLUMN: \\n \\n\",round((x.value_counts() / x.value_counts().sum())*100,2),\"\\n\")\n",
    "    print(\"- - - - - - - - - - - - - - - - - - - - - - - - - - - - - - - - - - - - - \\n\")"
   ]
  },
  {
   "cell_type": "code",
   "execution_count": 10,
   "id": "670bf24f-82ae-4808-82e5-5b24c0e2e9f6",
   "metadata": {},
   "outputs": [
    {
     "data": {
      "text/plain": [
       "Index(['Date', 'Year', 'Type', 'Country', 'Area', 'Location', 'Activity',\n",
       "       'Name', 'Sex ', 'Age', 'Injury', 'Fatal (Y/N)', 'Time', 'Species '],\n",
       "      dtype='object')"
      ]
     },
     "execution_count": 10,
     "metadata": {},
     "output_type": "execute_result"
    }
   ],
   "source": [
    "df.columns"
   ]
  },
  {
   "cell_type": "code",
   "execution_count": 11,
   "id": "e8c30fc2-c75d-4651-ad83-04d0e34a7609",
   "metadata": {},
   "outputs": [
    {
     "name": "stdout",
     "output_type": "stream",
     "text": [
      "TOTAL NUMBER OF ROWS:  6302 \n",
      "\n",
      "- - - - - - - - - - - - - - - - - - - - - - - - - - - - - - - - - - - - -\n",
      "\n",
      "NUMBER OF UNIQUE VALUES: 1549 \n",
      "\n",
      "- - - - - - - - - - - - - - - - - - - - - - - - - - - - - - - - - - - - - \n",
      "\n",
      "NUMBER OF UNIQUE VALUES DIVIDED BY TOTAL VALUES: 24.58 %\n",
      "\n",
      "- - - - - - - - - - - - - - - - - - - - - - - - - - - - - - - - - - - - - \n",
      "\n",
      "% OF NAN VALUES IS:  45.03 %\n",
      "\n",
      "- - - - - - - - - - - - - - - - - - - - - - - - - - - - - - - - - - - - - \n",
      "\n",
      "COLUMN DATA TYPE:  object \n",
      "\n",
      "- - - - - - - - - - - - - - - - - - - - - - - - - - - - - - - - - - - - - \n",
      "\n",
      "COLUMN UNIQUE VALUES: \n",
      " \n",
      " ['White shark' nan '2 m shark' ... \"12' tiger shark\" 'Blue pointers'\n",
      " 'Said to involve a grey nurse shark that leapt out of the water and  seized the boy but species identification is questionable'] \n",
      "\n",
      "- - - - - - - - - - - - - - - - - - - - - - - - - - - - - - - - - - - - - \n",
      "\n",
      "VARIABLE WEIGHT WITHIN THE TOTAL OF THE COLUMN: \n",
      " \n",
      " White shark                                                                                                                      4.71\n",
      "Shark involvement prior to death was not confirmed                                                                               3.03\n",
      "Invalid                                                                                                                          2.94\n",
      "Shark involvement not confirmed                                                                                                  2.54\n",
      "Tiger shark                                                                                                                      2.11\n",
      "                                                                                                                                 ... \n",
      "1.2 m to 1.5 m [4.5' to 5'] shark                                                                                                0.03\n",
      "Bull shark, 2.3 m [7.5']                                                                                                         0.03\n",
      "0.9 m  [3'] shark                                                                                                                0.03\n",
      "Mako shark, 14'                                                                                                                  0.03\n",
      "Said to involve a grey nurse shark that leapt out of the water and  seized the boy but species identification is questionable    0.03\n",
      "Name: Species , Length: 1549, dtype: float64 \n",
      "\n",
      "- - - - - - - - - - - - - - - - - - - - - - - - - - - - - - - - - - - - - \n",
      "\n"
     ]
    }
   ],
   "source": [
    "# Example: \n",
    "\n",
    "column_explore(df[\"Species \"])"
   ]
  },
  {
   "cell_type": "markdown",
   "id": "2de7f527-434d-4800-aae1-6aa465a1a41b",
   "metadata": {},
   "source": [
    "### Cleaning column names\n",
    "\n",
    "Using the function shared above, we have noticed that two column names have speces on it. Making it more complicated to navigate or llok for them in some functions\n",
    "\n",
    " - 'Species ' & 'Sex '\n",
    " \n",
    "We are going to also edit some of the names of the columns so they would be more accesible"
   ]
  },
  {
   "cell_type": "code",
   "execution_count": 12,
   "id": "a5be2b4c-dce8-4f0b-964e-bae52e76d4b2",
   "metadata": {},
   "outputs": [
    {
     "data": {
      "text/plain": [
       "Index(['Date', 'Year', 'Type', 'Country', 'Area', 'Location', 'Activity',\n",
       "       'Name', 'Sex ', 'Age', 'Injury', 'Fatal (Y/N)', 'Time', 'Species '],\n",
       "      dtype='object')"
      ]
     },
     "execution_count": 12,
     "metadata": {},
     "output_type": "execute_result"
    }
   ],
   "source": [
    "df.columns"
   ]
  },
  {
   "cell_type": "code",
   "execution_count": 13,
   "id": "82e6df1f-2813-41a7-9316-1a03483e0bf7",
   "metadata": {},
   "outputs": [
    {
     "data": {
      "text/html": [
       "<div>\n",
       "<style scoped>\n",
       "    .dataframe tbody tr th:only-of-type {\n",
       "        vertical-align: middle;\n",
       "    }\n",
       "\n",
       "    .dataframe tbody tr th {\n",
       "        vertical-align: top;\n",
       "    }\n",
       "\n",
       "    .dataframe thead th {\n",
       "        text-align: right;\n",
       "    }\n",
       "</style>\n",
       "<table border=\"1\" class=\"dataframe\">\n",
       "  <thead>\n",
       "    <tr style=\"text-align: right;\">\n",
       "      <th></th>\n",
       "      <th>Date</th>\n",
       "      <th>Year</th>\n",
       "      <th>Type</th>\n",
       "      <th>Country</th>\n",
       "      <th>Area</th>\n",
       "      <th>Location</th>\n",
       "      <th>Activity</th>\n",
       "      <th>Name</th>\n",
       "      <th>Sex</th>\n",
       "      <th>Age</th>\n",
       "      <th>Injury</th>\n",
       "      <th>Fatal</th>\n",
       "      <th>Time</th>\n",
       "      <th>Species</th>\n",
       "    </tr>\n",
       "  </thead>\n",
       "  <tbody>\n",
       "    <tr>\n",
       "      <th>6295</th>\n",
       "      <td>Before 1906</td>\n",
       "      <td>0.0</td>\n",
       "      <td>Unprovoked</td>\n",
       "      <td>AUSTRALIA</td>\n",
       "      <td>NaN</td>\n",
       "      <td>NaN</td>\n",
       "      <td>Fishing</td>\n",
       "      <td>fisherman</td>\n",
       "      <td>M</td>\n",
       "      <td>NaN</td>\n",
       "      <td>FATAL</td>\n",
       "      <td>Y</td>\n",
       "      <td>NaN</td>\n",
       "      <td>Blue pointers</td>\n",
       "    </tr>\n",
       "    <tr>\n",
       "      <th>6296</th>\n",
       "      <td>Before 1906</td>\n",
       "      <td>0.0</td>\n",
       "      <td>Unprovoked</td>\n",
       "      <td>AUSTRALIA</td>\n",
       "      <td>New South Wales</td>\n",
       "      <td></td>\n",
       "      <td>Swimming</td>\n",
       "      <td>Arab boy</td>\n",
       "      <td>M</td>\n",
       "      <td>NaN</td>\n",
       "      <td>FATAL</td>\n",
       "      <td>Y</td>\n",
       "      <td>NaN</td>\n",
       "      <td>Said to involve a grey nurse shark that leapt ...</td>\n",
       "    </tr>\n",
       "    <tr>\n",
       "      <th>6297</th>\n",
       "      <td>Before 1903</td>\n",
       "      <td>0.0</td>\n",
       "      <td>Unprovoked</td>\n",
       "      <td>AUSTRALIA</td>\n",
       "      <td>Western Australia</td>\n",
       "      <td>Roebuck Bay</td>\n",
       "      <td>Diving</td>\n",
       "      <td>male</td>\n",
       "      <td>M</td>\n",
       "      <td>NaN</td>\n",
       "      <td>FATAL</td>\n",
       "      <td>Y</td>\n",
       "      <td>NaN</td>\n",
       "      <td>NaN</td>\n",
       "    </tr>\n",
       "    <tr>\n",
       "      <th>6298</th>\n",
       "      <td>Before 1903</td>\n",
       "      <td>0.0</td>\n",
       "      <td>Unprovoked</td>\n",
       "      <td>AUSTRALIA</td>\n",
       "      <td>Western Australia</td>\n",
       "      <td>NaN</td>\n",
       "      <td>Pearl diving</td>\n",
       "      <td>Ahmun</td>\n",
       "      <td>M</td>\n",
       "      <td>NaN</td>\n",
       "      <td>FATAL</td>\n",
       "      <td>Y</td>\n",
       "      <td>NaN</td>\n",
       "      <td>NaN</td>\n",
       "    </tr>\n",
       "    <tr>\n",
       "      <th>6299</th>\n",
       "      <td>1900-1905</td>\n",
       "      <td>0.0</td>\n",
       "      <td>Unprovoked</td>\n",
       "      <td>USA</td>\n",
       "      <td>North Carolina</td>\n",
       "      <td>Ocracoke Inlet</td>\n",
       "      <td>Swimming</td>\n",
       "      <td>Coast Guard personnel</td>\n",
       "      <td>M</td>\n",
       "      <td>NaN</td>\n",
       "      <td>FATAL</td>\n",
       "      <td>Y</td>\n",
       "      <td>NaN</td>\n",
       "      <td>NaN</td>\n",
       "    </tr>\n",
       "    <tr>\n",
       "      <th>6300</th>\n",
       "      <td>1883-1889</td>\n",
       "      <td>0.0</td>\n",
       "      <td>Unprovoked</td>\n",
       "      <td>PANAMA</td>\n",
       "      <td>NaN</td>\n",
       "      <td>Panama Bay 8ºN, 79ºW</td>\n",
       "      <td>NaN</td>\n",
       "      <td>Jules Patterson</td>\n",
       "      <td>M</td>\n",
       "      <td>NaN</td>\n",
       "      <td>FATAL</td>\n",
       "      <td>Y</td>\n",
       "      <td>NaN</td>\n",
       "      <td>NaN</td>\n",
       "    </tr>\n",
       "    <tr>\n",
       "      <th>6301</th>\n",
       "      <td>1845-1853</td>\n",
       "      <td>0.0</td>\n",
       "      <td>Unprovoked</td>\n",
       "      <td>CEYLON (SRI LANKA)</td>\n",
       "      <td>Eastern Province</td>\n",
       "      <td>Below the English fort, Trincomalee</td>\n",
       "      <td>Swimming</td>\n",
       "      <td>male</td>\n",
       "      <td>M</td>\n",
       "      <td>15</td>\n",
       "      <td>FATAL. \"Shark bit him in half, carrying away t...</td>\n",
       "      <td>Y</td>\n",
       "      <td>NaN</td>\n",
       "      <td>NaN</td>\n",
       "    </tr>\n",
       "  </tbody>\n",
       "</table>\n",
       "</div>"
      ],
      "text/plain": [
       "             Date  Year        Type             Country               Area  \\\n",
       "6295  Before 1906   0.0  Unprovoked           AUSTRALIA                NaN   \n",
       "6296  Before 1906   0.0  Unprovoked           AUSTRALIA    New South Wales   \n",
       "6297  Before 1903   0.0  Unprovoked           AUSTRALIA  Western Australia   \n",
       "6298  Before 1903   0.0  Unprovoked           AUSTRALIA  Western Australia   \n",
       "6299    1900-1905   0.0  Unprovoked                 USA     North Carolina   \n",
       "6300    1883-1889   0.0  Unprovoked              PANAMA                NaN   \n",
       "6301    1845-1853   0.0  Unprovoked  CEYLON (SRI LANKA)   Eastern Province   \n",
       "\n",
       "                                 Location      Activity  \\\n",
       "6295                                  NaN       Fishing   \n",
       "6296                                           Swimming   \n",
       "6297                          Roebuck Bay        Diving   \n",
       "6298                                  NaN  Pearl diving   \n",
       "6299                       Ocracoke Inlet      Swimming   \n",
       "6300                 Panama Bay 8ºN, 79ºW           NaN   \n",
       "6301  Below the English fort, Trincomalee      Swimming   \n",
       "\n",
       "                       Name Sex  Age  \\\n",
       "6295              fisherman   M  NaN   \n",
       "6296               Arab boy   M  NaN   \n",
       "6297                   male   M  NaN   \n",
       "6298                  Ahmun   M  NaN   \n",
       "6299  Coast Guard personnel   M  NaN   \n",
       "6300        Jules Patterson   M  NaN   \n",
       "6301                   male   M   15   \n",
       "\n",
       "                                                 Injury Fatal Time  \\\n",
       "6295                                              FATAL     Y  NaN   \n",
       "6296                                              FATAL     Y  NaN   \n",
       "6297                                              FATAL     Y  NaN   \n",
       "6298                                              FATAL     Y  NaN   \n",
       "6299                                              FATAL     Y  NaN   \n",
       "6300                                              FATAL     Y  NaN   \n",
       "6301  FATAL. \"Shark bit him in half, carrying away t...     Y  NaN   \n",
       "\n",
       "                                                Species  \n",
       "6295                                      Blue pointers  \n",
       "6296  Said to involve a grey nurse shark that leapt ...  \n",
       "6297                                                NaN  \n",
       "6298                                                NaN  \n",
       "6299                                                NaN  \n",
       "6300                                                NaN  \n",
       "6301                                                NaN  "
      ]
     },
     "execution_count": 13,
     "metadata": {},
     "output_type": "execute_result"
    }
   ],
   "source": [
    "#https://pandas.pydata.org/docs/reference/api/pandas.DataFrame.rename.html\n",
    "\n",
    "df.rename(columns={\"Species \":\"Species\",\"Sex \":\"Sex\",\"Fatal (Y/N)\":\"Fatal\"},inplace=True)\n",
    "df.tail(7)"
   ]
  },
  {
   "cell_type": "markdown",
   "id": "2a42af19-7a2d-4aa5-bf0f-d2a10f57ac60",
   "metadata": {},
   "source": [
    "### Cleaning column values\n",
    "\n",
    "In this section we are going to perform the cleaning of the variables inside the columns so we can better analyse them afterwards"
   ]
  },
  {
   "cell_type": "markdown",
   "id": "afbf557b-1418-42fc-8d81-704b595c0979",
   "metadata": {},
   "source": [
    "#### Date & Month"
   ]
  },
  {
   "cell_type": "markdown",
   "id": "8232c768-1668-47d6-bacf-6cb22c1aeb4d",
   "metadata": {},
   "source": [
    "- First we explore the column values with the function \"column_explore\""
   ]
  },
  {
   "cell_type": "code",
   "execution_count": 14,
   "id": "6ff2ad6d-7cfb-494d-b811-5757d5fab8fe",
   "metadata": {},
   "outputs": [
    {
     "name": "stdout",
     "output_type": "stream",
     "text": [
      "TOTAL NUMBER OF ROWS:  6302 \n",
      "\n",
      "- - - - - - - - - - - - - - - - - - - - - - - - - - - - - - - - - - - - -\n",
      "\n",
      "NUMBER OF UNIQUE VALUES: 5433 \n",
      "\n",
      "- - - - - - - - - - - - - - - - - - - - - - - - - - - - - - - - - - - - - \n",
      "\n",
      "NUMBER OF UNIQUE VALUES DIVIDED BY TOTAL VALUES: 86.21 %\n",
      "\n",
      "- - - - - - - - - - - - - - - - - - - - - - - - - - - - - - - - - - - - - \n",
      "\n",
      "% OF NAN VALUES IS:  0.0 %\n",
      "\n",
      "- - - - - - - - - - - - - - - - - - - - - - - - - - - - - - - - - - - - - \n",
      "\n",
      "COLUMN DATA TYPE:  object \n",
      "\n",
      "- - - - - - - - - - - - - - - - - - - - - - - - - - - - - - - - - - - - - \n",
      "\n",
      "COLUMN UNIQUE VALUES: \n",
      " \n",
      " ['25-Jun-2018' '18-Jun-2018' '09-Jun-2018' ... '1900-1905' '1883-1889'\n",
      " '1845-1853'] \n",
      "\n",
      "- - - - - - - - - - - - - - - - - - - - - - - - - - - - - - - - - - - - - \n",
      "\n",
      "VARIABLE WEIGHT WITHIN THE TOTAL OF THE COLUMN: \n",
      " \n",
      " 1957                          0.17\n",
      "1942                          0.14\n",
      "1956                          0.13\n",
      "1958                          0.11\n",
      "1950                          0.11\n",
      "                              ... \n",
      "01-Dec-1994                   0.02\n",
      "Reported      10-Dec-1994     0.02\n",
      "11-Dec-1994                   0.02\n",
      "13-Dec-1994                   0.02\n",
      "1845-1853                     0.02\n",
      "Name: Date, Length: 5433, dtype: float64 \n",
      "\n",
      "- - - - - - - - - - - - - - - - - - - - - - - - - - - - - - - - - - - - - \n",
      "\n"
     ]
    }
   ],
   "source": [
    "column_explore(df[\"Date\"])"
   ]
  },
  {
   "cell_type": "markdown",
   "id": "4429acb2-feea-45a3-a41c-a6666139bfaa",
   "metadata": {},
   "source": [
    "After seeing the data, we have decidet to clean this column and create a new one from it. Called moth\n",
    "\n",
    "In order to clean this variable we will have to eprform the following changes: \n",
    "- Remove the word \"reported\" and \"Before\"\n",
    "- Get rid of the year. We already have it the fowwoing column, \n",
    "- We will focus on the month, since we don't have any interest on the day\n",
    "    \n"
   ]
  },
  {
   "cell_type": "code",
   "execution_count": 15,
   "id": "d2956e22-24b5-4f09-b0c5-98aede79fd0f",
   "metadata": {},
   "outputs": [
    {
     "data": {
      "text/plain": [
       "0       25-Jun-2018\n",
       "1       18-Jun-2018\n",
       "2       09-Jun-2018\n",
       "3       08-Jun-2018\n",
       "4       04-Jun-2018\n",
       "           ...     \n",
       "6297           1903\n",
       "6298           1903\n",
       "6299      1900-1905\n",
       "6300      1883-1889\n",
       "6301      1845-1853\n",
       "Name: Date, Length: 6302, dtype: object"
      ]
     },
     "execution_count": 15,
     "metadata": {},
     "output_type": "execute_result"
    }
   ],
   "source": [
    "# Removing \"Reported\" & \"Before\"\n",
    "\n",
    "df[\"Date\"] = df[\"Date\"].str.replace(\"Reported\",\"\")\n",
    "df[\"Date\"] = df[\"Date\"].str.replace(\"Before\",\"\")\n",
    "df[\"Date\"]\n"
   ]
  },
  {
   "cell_type": "code",
   "execution_count": 16,
   "id": "4650a492-c351-40cf-9996-e0365ee85dae",
   "metadata": {},
   "outputs": [
    {
     "data": {
      "text/plain": [
       "1585                May\n",
       "1306                Dec\n",
       "1033                Apr\n",
       "4540                Sep\n",
       "2165                Sep\n",
       "693                 Mar\n",
       "3110                Nov\n",
       "5514    month_not_found\n",
       "5226                Apr\n",
       "1200                Sep\n",
       "1133                Apr\n",
       "5222                Jul\n",
       "1924                Aug\n",
       "6131                Dec\n",
       "2008                Sep\n",
       "3593                Jan\n",
       "6295    month_not_found\n",
       "6219    month_not_found\n",
       "6167    month_not_found\n",
       "5835                Mar\n",
       "Name: month, dtype: object"
      ]
     },
     "execution_count": 16,
     "metadata": {},
     "output_type": "execute_result"
    }
   ],
   "source": [
    "df['month'] = df['Date'].apply(lambda x: re.search(r'-(\\w+)-', x).group(1) if re.search(r'-(\\w+)-', x) else \"month_not_found\")\n",
    "df['month'].sample(20)"
   ]
  },
  {
   "cell_type": "code",
   "execution_count": 17,
   "id": "23dd9275-6b90-495e-9c63-7757849b923b",
   "metadata": {},
   "outputs": [
    {
     "name": "stdout",
     "output_type": "stream",
     "text": [
      "TOTAL NUMBER OF ROWS:  6302 \n",
      "\n",
      "- - - - - - - - - - - - - - - - - - - - - - - - - - - - - - - - - - - - -\n",
      "\n",
      "NUMBER OF UNIQUE VALUES: 23 \n",
      "\n",
      "- - - - - - - - - - - - - - - - - - - - - - - - - - - - - - - - - - - - - \n",
      "\n",
      "NUMBER OF UNIQUE VALUES DIVIDED BY TOTAL VALUES: 0.36 %\n",
      "\n",
      "- - - - - - - - - - - - - - - - - - - - - - - - - - - - - - - - - - - - - \n",
      "\n",
      "% OF NAN VALUES IS:  0.0 %\n",
      "\n",
      "- - - - - - - - - - - - - - - - - - - - - - - - - - - - - - - - - - - - - \n",
      "\n",
      "COLUMN DATA TYPE:  object \n",
      "\n",
      "- - - - - - - - - - - - - - - - - - - - - - - - - - - - - - - - - - - - - \n",
      "\n",
      "COLUMN UNIQUE VALUES: \n",
      " \n",
      " ['Jun' 'May' 'month_not_found' 'Apr' 'Mar' 'Feb' 'Jan' 'Dec' 'Nov' 'Oct'\n",
      " 'Sep' 'Aug' 'Jul' 'July' 'Ap' '30' '26' 'March' 'Sept' '24' '17' '13'\n",
      " '28'] \n",
      "\n",
      "- - - - - - - - - - - - - - - - - - - - - - - - - - - - - - - - - - - - - \n",
      "\n",
      "VARIABLE WEIGHT WITHIN THE TOTAL OF THE COLUMN: \n",
      " \n",
      " month_not_found    14.20\n",
      "Jul                 9.85\n",
      "Aug                 8.82\n",
      "Sep                 8.27\n",
      "Jan                 7.84\n",
      "Jun                 7.54\n",
      "Apr                 6.66\n",
      "Oct                 6.62\n",
      "Dec                 6.59\n",
      "Mar                 6.05\n",
      "Nov                 6.00\n",
      "May                 5.68\n",
      "Feb                 5.65\n",
      "July                0.06\n",
      "Sept                0.03\n",
      "Ap                  0.03\n",
      "26                  0.02\n",
      "March               0.02\n",
      "30                  0.02\n",
      "24                  0.02\n",
      "17                  0.02\n",
      "13                  0.02\n",
      "28                  0.02\n",
      "Name: month, dtype: float64 \n",
      "\n",
      "- - - - - - - - - - - - - - - - - - - - - - - - - - - - - - - - - - - - - \n",
      "\n"
     ]
    }
   ],
   "source": [
    "column_explore(df[\"month\"])"
   ]
  },
  {
   "cell_type": "markdown",
   "id": "c1536cab-2b84-4e31-bd00-0bbafa2245b7",
   "metadata": {},
   "source": [
    "As we can see, we will have to deal with 15% of missing data. \n",
    "\n",
    "On the other hand we are going to clean this new column a litte bit by:\n",
    "\n",
    "- Modify July,Sept and March so they can fit into their corrsponsding month\n",
    "- Add the random numbers into \"month_not_found\"\n",
    "    "
   ]
  },
  {
   "cell_type": "code",
   "execution_count": 18,
   "id": "ca19f771-cec2-43bf-812b-ed4a9083f09a",
   "metadata": {},
   "outputs": [
    {
     "name": "stdout",
     "output_type": "stream",
     "text": [
      "TOTAL NUMBER OF ROWS:  6302 \n",
      "\n",
      "- - - - - - - - - - - - - - - - - - - - - - - - - - - - - - - - - - - - -\n",
      "\n",
      "NUMBER OF UNIQUE VALUES: 19 \n",
      "\n",
      "- - - - - - - - - - - - - - - - - - - - - - - - - - - - - - - - - - - - - \n",
      "\n",
      "NUMBER OF UNIQUE VALUES DIVIDED BY TOTAL VALUES: 0.3 %\n",
      "\n",
      "- - - - - - - - - - - - - - - - - - - - - - - - - - - - - - - - - - - - - \n",
      "\n",
      "% OF NAN VALUES IS:  0.0 %\n",
      "\n",
      "- - - - - - - - - - - - - - - - - - - - - - - - - - - - - - - - - - - - - \n",
      "\n",
      "COLUMN DATA TYPE:  object \n",
      "\n",
      "- - - - - - - - - - - - - - - - - - - - - - - - - - - - - - - - - - - - - \n",
      "\n",
      "COLUMN UNIQUE VALUES: \n",
      " \n",
      " ['Jun' 'May' 'month_not_found' 'Apr' 'Mar' 'Feb' 'Jan' 'Dec' 'Nov' 'Oct'\n",
      " 'Sep' 'Aug' 'Jul' '30' '26' '24' '17' '13' '28'] \n",
      "\n",
      "- - - - - - - - - - - - - - - - - - - - - - - - - - - - - - - - - - - - - \n",
      "\n",
      "VARIABLE WEIGHT WITHIN THE TOTAL OF THE COLUMN: \n",
      " \n",
      " month_not_found    14.20\n",
      "Jul                 9.92\n",
      "Aug                 8.82\n",
      "Sep                 8.30\n",
      "Jan                 7.84\n",
      "Jun                 7.54\n",
      "Apr                 6.70\n",
      "Oct                 6.62\n",
      "Dec                 6.59\n",
      "Mar                 6.06\n",
      "Nov                 6.00\n",
      "May                 5.68\n",
      "Feb                 5.65\n",
      "30                  0.02\n",
      "26                  0.02\n",
      "24                  0.02\n",
      "17                  0.02\n",
      "13                  0.02\n",
      "28                  0.02\n",
      "Name: month, dtype: float64 \n",
      "\n",
      "- - - - - - - - - - - - - - - - - - - - - - - - - - - - - - - - - - - - - \n",
      "\n"
     ]
    }
   ],
   "source": [
    "# Updating months\n",
    "\n",
    "df[\"month\"] = df[\"month\"].str.replace(\"July\",\"Jul\").str.replace(\"Sept\",\"Sep\").str.replace(\"March\",\"Mar\").str.replace(\"Ap\",\"Apr\").str.replace(\"Aprr\",\"Apr\")\n",
    "column_explore(df[\"month\"])"
   ]
  },
  {
   "cell_type": "code",
   "execution_count": 19,
   "id": "e138d0f2-abe0-4676-95d5-7825af595627",
   "metadata": {},
   "outputs": [
    {
     "name": "stdout",
     "output_type": "stream",
     "text": [
      "TOTAL NUMBER OF ROWS:  6302 \n",
      "\n",
      "- - - - - - - - - - - - - - - - - - - - - - - - - - - - - - - - - - - - -\n",
      "\n",
      "NUMBER OF UNIQUE VALUES: 13 \n",
      "\n",
      "- - - - - - - - - - - - - - - - - - - - - - - - - - - - - - - - - - - - - \n",
      "\n",
      "NUMBER OF UNIQUE VALUES DIVIDED BY TOTAL VALUES: 0.21 %\n",
      "\n",
      "- - - - - - - - - - - - - - - - - - - - - - - - - - - - - - - - - - - - - \n",
      "\n",
      "% OF NAN VALUES IS:  0.0 %\n",
      "\n",
      "- - - - - - - - - - - - - - - - - - - - - - - - - - - - - - - - - - - - - \n",
      "\n",
      "COLUMN DATA TYPE:  object \n",
      "\n",
      "- - - - - - - - - - - - - - - - - - - - - - - - - - - - - - - - - - - - - \n",
      "\n",
      "COLUMN UNIQUE VALUES: \n",
      " \n",
      " ['Jun' 'May' 'month_not_found' 'Apr' 'Mar' 'Feb' 'Jan' 'Dec' 'Nov' 'Oct'\n",
      " 'Sep' 'Aug' 'Jul'] \n",
      "\n",
      "- - - - - - - - - - - - - - - - - - - - - - - - - - - - - - - - - - - - - \n",
      "\n",
      "VARIABLE WEIGHT WITHIN THE TOTAL OF THE COLUMN: \n",
      " \n",
      " month_not_found    14.30\n",
      "Jul                 9.92\n",
      "Aug                 8.82\n",
      "Sep                 8.30\n",
      "Jan                 7.84\n",
      "Jun                 7.54\n",
      "Apr                 6.70\n",
      "Oct                 6.62\n",
      "Dec                 6.59\n",
      "Mar                 6.06\n",
      "Nov                 6.00\n",
      "May                 5.68\n",
      "Feb                 5.65\n",
      "Name: month, dtype: float64 \n",
      "\n",
      "- - - - - - - - - - - - - - - - - - - - - - - - - - - - - - - - - - - - - \n",
      "\n"
     ]
    }
   ],
   "source": [
    "# Updating days\n",
    "\n",
    "df[\"month\"] = df[\"month\"].str.replace(\"30\",\"month_not_found\").str.replace(\"26\",\"month_not_found\").str.replace(\"24\",\"month_not_found\").str.replace(\"17\",\"month_not_found\").str.replace(\"13\",\"month_not_found\").str.replace(\"28\",\"month_not_found\")\n",
    "column_explore(df[\"month\"])"
   ]
  },
  {
   "cell_type": "markdown",
   "id": "e11cd654-dd94-4c17-bf1b-2bf765f1bb83",
   "metadata": {},
   "source": [
    "#### Year\n",
    "\n",
    "First, let's explore the column values"
   ]
  },
  {
   "cell_type": "code",
   "execution_count": 20,
   "id": "4a7c9d3d-1fdb-4c40-aa2b-1f339a284040",
   "metadata": {},
   "outputs": [
    {
     "name": "stdout",
     "output_type": "stream",
     "text": [
      "TOTAL NUMBER OF ROWS:  6302 \n",
      "\n",
      "- - - - - - - - - - - - - - - - - - - - - - - - - - - - - - - - - - - - -\n",
      "\n",
      "NUMBER OF UNIQUE VALUES: 249 \n",
      "\n",
      "- - - - - - - - - - - - - - - - - - - - - - - - - - - - - - - - - - - - - \n",
      "\n",
      "NUMBER OF UNIQUE VALUES DIVIDED BY TOTAL VALUES: 3.95 %\n",
      "\n",
      "- - - - - - - - - - - - - - - - - - - - - - - - - - - - - - - - - - - - - \n",
      "\n",
      "% OF NAN VALUES IS:  0.03 %\n",
      "\n",
      "- - - - - - - - - - - - - - - - - - - - - - - - - - - - - - - - - - - - - \n",
      "\n",
      "COLUMN DATA TYPE:  float64 \n",
      "\n",
      "- - - - - - - - - - - - - - - - - - - - - - - - - - - - - - - - - - - - - \n",
      "\n",
      "COLUMN UNIQUE VALUES: \n",
      " \n",
      " [2018. 2017.   nan 2016. 2015. 2014. 2013. 2012. 2011. 2010. 2009. 2008.\n",
      " 2007. 2006. 2005. 2004. 2003. 2002. 2001. 2000. 1999. 1998. 1997. 1996.\n",
      " 1995. 1984. 1994. 1993. 1992. 1991. 1990. 1989. 1969. 1988. 1987. 1986.\n",
      " 1985. 1983. 1982. 1981. 1980. 1979. 1978. 1977. 1976. 1975. 1974. 1973.\n",
      " 1972. 1971. 1970. 1968. 1967. 1966. 1965. 1964. 1963. 1962. 1961. 1960.\n",
      " 1959. 1958. 1957. 1956. 1955. 1954. 1953. 1952. 1951. 1950. 1949. 1948.\n",
      " 1848. 1947. 1946. 1945. 1944. 1943. 1942. 1941. 1940. 1939. 1938. 1937.\n",
      " 1936. 1935. 1934. 1933. 1932. 1931. 1930. 1929. 1928. 1927. 1926. 1925.\n",
      " 1924. 1923. 1922. 1921. 1920. 1919. 1918. 1917. 1916. 1915. 1914. 1913.\n",
      " 1912. 1911. 1910. 1909. 1908. 1907. 1906. 1905. 1904. 1903. 1902. 1901.\n",
      " 1900. 1899. 1898. 1897. 1896. 1895. 1894. 1893. 1892. 1891. 1890. 1889.\n",
      " 1888. 1887. 1886. 1885. 1884. 1883. 1882. 1881. 1880. 1879. 1878. 1877.\n",
      " 1876. 1875. 1874. 1873. 1872. 1871. 1870. 1869. 1868. 1867. 1866. 1865.\n",
      " 1864. 1863. 1862. 1861. 1860. 1859. 1858. 1857. 1856. 1855. 1853. 1852.\n",
      " 1851. 1850. 1849. 1847. 1846. 1845. 1844. 1842. 1841. 1840. 1839. 1837.\n",
      " 1836. 1835. 1834. 1832. 1831. 1830. 1829. 1828. 1827. 1826. 1825. 1823.\n",
      " 1822. 1819. 1818. 1817. 1816. 1815. 1812. 1811. 1810. 1808. 1807. 1805.\n",
      " 1804. 1803. 1802. 1801. 1800. 1797. 1792. 1791. 1788. 1787. 1786. 1785.\n",
      " 1784. 1783. 1780. 1779. 1776. 1771. 1767. 1764. 1758. 1753. 1751. 1749.\n",
      " 1755. 1748. 1742. 1738. 1733. 1723. 1721. 1703. 1700. 1642. 1638. 1637.\n",
      " 1617. 1595. 1580. 1555. 1554. 1543.  500.   77.    5.    0.] \n",
      "\n",
      "- - - - - - - - - - - - - - - - - - - - - - - - - - - - - - - - - - - - - \n",
      "\n",
      "VARIABLE WEIGHT WITHIN THE TOTAL OF THE COLUMN: \n",
      " \n",
      " 2015.0    2.27\n",
      "2017.0    2.16\n",
      "2016.0    2.06\n",
      "2011.0    2.03\n",
      "2014.0    2.02\n",
      "          ... \n",
      "1786.0    0.02\n",
      "1785.0    0.02\n",
      "1784.0    0.02\n",
      "1783.0    0.02\n",
      "1815.0    0.02\n",
      "Name: Year, Length: 249, dtype: float64 \n",
      "\n",
      "- - - - - - - - - - - - - - - - - - - - - - - - - - - - - - - - - - - - - \n",
      "\n"
     ]
    }
   ],
   "source": [
    "column_explore(df[\"Year\"])"
   ]
  },
  {
   "cell_type": "markdown",
   "id": "f7632a87-2ef2-4392-b4a7-93dbcd30cdab",
   "metadata": {},
   "source": [
    "Fist we get rid of the .0 from the end of the years"
   ]
  },
  {
   "cell_type": "code",
   "execution_count": 21,
   "id": "c9e4f31a-f647-4f62-8353-f5d0a75bfe67",
   "metadata": {},
   "outputs": [
    {
     "data": {
      "text/plain": [
       "0       2018\n",
       "1       2018\n",
       "2       2018\n",
       "3       2018\n",
       "4       2018\n",
       "        ... \n",
       "6297       0\n",
       "6298       0\n",
       "6299       0\n",
       "6300       0\n",
       "6301       0\n",
       "Name: Year, Length: 6302, dtype: object"
      ]
     },
     "execution_count": 21,
     "metadata": {},
     "output_type": "execute_result"
    }
   ],
   "source": [
    "df[\"Year\"] = df[\"Year\"].astype(\"str\").str.split(\".\").str[0]\n",
    "df[\"Year\"]"
   ]
  },
  {
   "cell_type": "code",
   "execution_count": 22,
   "id": "241ec640-df0a-4919-a78a-d19cb273deb3",
   "metadata": {},
   "outputs": [],
   "source": [
    "df[\"Year\"] = df[\"Year\"].str.replace(\"nan\",\"0\")"
   ]
  },
  {
   "cell_type": "markdown",
   "id": "a4513888-45d6-431c-8cdb-274ed8ca53bc",
   "metadata": {},
   "source": [
    "Now, we get rid of the corrupted values like \"500\""
   ]
  },
  {
   "cell_type": "code",
   "execution_count": 23,
   "id": "aaee183e-c916-446f-857f-ead2df798143",
   "metadata": {},
   "outputs": [
    {
     "data": {
      "text/plain": [
       "array(['2018', '2017', 'nan', '2016', '2015', '2014', '2013', '2012',\n",
       "       '2011', '2010', '2009', '2008', '2007', '2006', '2005', '2004',\n",
       "       '2003', '2002', '2001', '2000', '1999', '1998', '1997', '1996',\n",
       "       '1995', '1984', '1994', '1993', '1992', '1991', '1990', '1989',\n",
       "       '1969', '1988', '1987', '1986', '1985', '1983', '1982', '1981',\n",
       "       '1980', '1979', '1978', '1977', '1976', '1975', '1974', '1973',\n",
       "       '1972', '1971', '1970', '1968', '1967', '1966', '1965', '1964',\n",
       "       '1963', '1962', '1961', '1960', '1959', '1958', '1957', '1956',\n",
       "       '1955', '1954', '1953', '1952', '1951', '1950', '1949', '1948',\n",
       "       '1848', '1947', '1946', '1945', '1944', '1943', '1942', '1941',\n",
       "       '1940', '1939', '1938', '1937', '1936', '1935', '1934', '1933',\n",
       "       '1932', '1931', '1930', '1929', '1928', '1927', '1926', '1925',\n",
       "       '1924', '1923', '1922', '1921', '1920', '1919', '1918', '1917',\n",
       "       '1916', '1915', '1914', '1913', '1912', '1911', '1910', '1909',\n",
       "       '1908', '1907', '1906', '1905', '1904', '1903', '1902', '1901',\n",
       "       '1900', '1899', '1898', '1897', '1896', '1895', '1894', '1893',\n",
       "       '1892', '1891', '1890', '1889', '1888', '1887', '1886', '1885',\n",
       "       '1884', '1883', '1882', '1881', '1880', '1879', '1878', '1877',\n",
       "       '1876', '1875', '1874', '1873', '1872', '1871', '1870', '1869',\n",
       "       '1868', '1867', '1866', '1865', '1864', '1863', '1862', '1861',\n",
       "       '1860', '1859', '1858', '1857', '1856', '1855', '1853', '1852',\n",
       "       '1851', '1850', '1849', '1847', '1846', '1845', '1844', '1842',\n",
       "       '1841', '1840', '1839', '1837', '1836', '1835', '1834', '1832',\n",
       "       '1831', '1830', '1829', '1828', '1827', '1826', '1825', '1823',\n",
       "       '1822', '1819', '1818', '1817', '1816', '1815', '1812', '1811',\n",
       "       '1810', '1808', '1807', '1805', '1804', '1803', '1802', '1801',\n",
       "       '1800', '1797', '1792', '1791', '1788', '1787', '1786', '1785',\n",
       "       '1784', '1783', '1780', '1779', '1776', '1771', '1767', '1764',\n",
       "       '1758', '1753', '1751', '1749', '1755', '1748', '1742', '1738',\n",
       "       '1733', '1723', '1721', '1703', '1700', '1642', '1638', '1637',\n",
       "       '1617', '1595', '1580', '1555', '1554', '1543'], dtype=object)"
      ]
     },
     "execution_count": 23,
     "metadata": {},
     "output_type": "execute_result"
    }
   ],
   "source": [
    "# admissions[\"decision2\"] = admissions[\"SOP\"].apply(lambda x: 1 if x > 3 else 0)\n",
    "\n",
    "df[\"Year\"] = df[\"Year\"].apply(lambda x: \"nan\" if int(x) < 1000 else x)\n",
    "df[\"Year\"].unique()"
   ]
  },
  {
   "cell_type": "markdown",
   "id": "ec8dd8cc-507e-4f54-a94d-b29cc5150ec0",
   "metadata": {},
   "source": [
    "#### Type"
   ]
  },
  {
   "cell_type": "code",
   "execution_count": 24,
   "id": "7b6b43f8-9615-42eb-b5ee-479d88f1e5c3",
   "metadata": {},
   "outputs": [
    {
     "name": "stdout",
     "output_type": "stream",
     "text": [
      "TOTAL NUMBER OF ROWS:  6302 \n",
      "\n",
      "- - - - - - - - - - - - - - - - - - - - - - - - - - - - - - - - - - - - -\n",
      "\n",
      "NUMBER OF UNIQUE VALUES: 8 \n",
      "\n",
      "- - - - - - - - - - - - - - - - - - - - - - - - - - - - - - - - - - - - - \n",
      "\n",
      "NUMBER OF UNIQUE VALUES DIVIDED BY TOTAL VALUES: 0.13 %\n",
      "\n",
      "- - - - - - - - - - - - - - - - - - - - - - - - - - - - - - - - - - - - - \n",
      "\n",
      "% OF NAN VALUES IS:  0.06 %\n",
      "\n",
      "- - - - - - - - - - - - - - - - - - - - - - - - - - - - - - - - - - - - - \n",
      "\n",
      "COLUMN DATA TYPE:  object \n",
      "\n",
      "- - - - - - - - - - - - - - - - - - - - - - - - - - - - - - - - - - - - - \n",
      "\n",
      "COLUMN UNIQUE VALUES: \n",
      " \n",
      " ['Boating' 'Unprovoked' 'Invalid' 'Provoked' 'Questionable' 'Sea Disaster'\n",
      " nan 'Boat' 'Boatomg'] \n",
      "\n",
      "- - - - - - - - - - - - - - - - - - - - - - - - - - - - - - - - - - - - - \n",
      "\n",
      "VARIABLE WEIGHT WITHIN THE TOTAL OF THE COLUMN: \n",
      " \n",
      " Unprovoked      72.96\n",
      "Provoked         9.11\n",
      "Invalid          8.69\n",
      "Sea Disaster     3.79\n",
      "Boating          3.22\n",
      "Boat             2.18\n",
      "Questionable     0.03\n",
      "Boatomg          0.02\n",
      "Name: Type, dtype: float64 \n",
      "\n",
      "- - - - - - - - - - - - - - - - - - - - - - - - - - - - - - - - - - - - - \n",
      "\n"
     ]
    }
   ],
   "source": [
    "column_explore(df[\"Type\"])"
   ]
  },
  {
   "cell_type": "code",
   "execution_count": 25,
   "id": "211b9ffd-5ede-4e90-9159-5b85dc505294",
   "metadata": {},
   "outputs": [
    {
     "data": {
      "text/plain": [
       "array(['Boating', 'Unprovoked', 'Invalid', 'Provoked', 'Questionable',\n",
       "       'Sea Disaster', 'nan'], dtype=object)"
      ]
     },
     "execution_count": 25,
     "metadata": {},
     "output_type": "execute_result"
    }
   ],
   "source": [
    "# Grouping variables\n",
    "\n",
    "df[\"Type\"] = df[\"Type\"].apply(lambda x: str(x) if not isinstance(x, str) else x)\n",
    "df[\"Type\"] = df[\"Type\"].apply(lambda x: re.sub(r\"\\bBoat\\b\", \"Boating\", x))\n",
    "df[\"Type\"] = df[\"Type\"].apply(lambda x: re.sub(r\"\\bBoatomg\\b\", \"Boating\", x))\n",
    "df[\"Type\"].unique()"
   ]
  },
  {
   "cell_type": "markdown",
   "id": "f5b035ce-7f63-4195-9c12-e086e8572dfd",
   "metadata": {},
   "source": [
    "#### Sex"
   ]
  },
  {
   "cell_type": "code",
   "execution_count": 26,
   "id": "d61e711e-03c2-45e5-acdd-b8aec0ef92d5",
   "metadata": {},
   "outputs": [
    {
     "name": "stdout",
     "output_type": "stream",
     "text": [
      "TOTAL NUMBER OF ROWS:  6302 \n",
      "\n",
      "- - - - - - - - - - - - - - - - - - - - - - - - - - - - - - - - - - - - -\n",
      "\n",
      "NUMBER OF UNIQUE VALUES: 6 \n",
      "\n",
      "- - - - - - - - - - - - - - - - - - - - - - - - - - - - - - - - - - - - - \n",
      "\n",
      "NUMBER OF UNIQUE VALUES DIVIDED BY TOTAL VALUES: 0.1 %\n",
      "\n",
      "- - - - - - - - - - - - - - - - - - - - - - - - - - - - - - - - - - - - - \n",
      "\n",
      "% OF NAN VALUES IS:  8.97 %\n",
      "\n",
      "- - - - - - - - - - - - - - - - - - - - - - - - - - - - - - - - - - - - - \n",
      "\n",
      "COLUMN DATA TYPE:  object \n",
      "\n",
      "- - - - - - - - - - - - - - - - - - - - - - - - - - - - - - - - - - - - - \n",
      "\n",
      "COLUMN UNIQUE VALUES: \n",
      " \n",
      " ['F' 'M' nan 'M ' 'lli' 'N' '.'] \n",
      "\n",
      "- - - - - - - - - - - - - - - - - - - - - - - - - - - - - - - - - - - - - \n",
      "\n",
      "VARIABLE WEIGHT WITHIN THE TOTAL OF THE COLUMN: \n",
      " \n",
      " M      88.79\n",
      "F      11.10\n",
      "M       0.03\n",
      "N       0.03\n",
      "lli     0.02\n",
      ".       0.02\n",
      "Name: Sex, dtype: float64 \n",
      "\n",
      "- - - - - - - - - - - - - - - - - - - - - - - - - - - - - - - - - - - - - \n",
      "\n"
     ]
    }
   ],
   "source": [
    "#df.head()\n",
    "\n",
    "column_explore(df[\"Sex\"])\n",
    "\n",
    "#df[\"Activity\"].sample(20)"
   ]
  },
  {
   "cell_type": "code",
   "execution_count": 27,
   "id": "1d5f0a18-cdbc-4666-902f-819fa452a27c",
   "metadata": {},
   "outputs": [
    {
     "data": {
      "text/plain": [
       "array(['F', 'M', nan, 'lli', 'N', '.'], dtype=object)"
      ]
     },
     "execution_count": 27,
     "metadata": {},
     "output_type": "execute_result"
    }
   ],
   "source": [
    "\n",
    "df[\"Sex\"] = df[\"Sex\"].str.strip()\n",
    "df[\"Sex\"].unique()\n"
   ]
  },
  {
   "cell_type": "markdown",
   "id": "4dc2dd47-57ab-41b6-a46b-6d65b1ae8def",
   "metadata": {},
   "source": [
    "#### Fatal"
   ]
  },
  {
   "cell_type": "code",
   "execution_count": 28,
   "id": "01e2d01f-fabb-48de-8d7c-9fb97fb4028c",
   "metadata": {},
   "outputs": [
    {
     "name": "stdout",
     "output_type": "stream",
     "text": [
      "TOTAL NUMBER OF ROWS:  6302 \n",
      "\n",
      "- - - - - - - - - - - - - - - - - - - - - - - - - - - - - - - - - - - - -\n",
      "\n",
      "NUMBER OF UNIQUE VALUES: 8 \n",
      "\n",
      "- - - - - - - - - - - - - - - - - - - - - - - - - - - - - - - - - - - - - \n",
      "\n",
      "NUMBER OF UNIQUE VALUES DIVIDED BY TOTAL VALUES: 0.13 %\n",
      "\n",
      "- - - - - - - - - - - - - - - - - - - - - - - - - - - - - - - - - - - - - \n",
      "\n",
      "% OF NAN VALUES IS:  8.55 %\n",
      "\n",
      "- - - - - - - - - - - - - - - - - - - - - - - - - - - - - - - - - - - - - \n",
      "\n",
      "COLUMN DATA TYPE:  object \n",
      "\n",
      "- - - - - - - - - - - - - - - - - - - - - - - - - - - - - - - - - - - - - \n",
      "\n",
      "COLUMN UNIQUE VALUES: \n",
      " \n",
      " ['N' 'Y' nan 'M' 'UNKNOWN' '2017' ' N' 'N ' 'y'] \n",
      "\n",
      "- - - - - - - - - - - - - - - - - - - - - - - - - - - - - - - - - - - - - \n",
      "\n",
      "VARIABLE WEIGHT WITHIN THE TOTAL OF THE COLUMN: \n",
      " \n",
      " N          74.49\n",
      "Y          24.08\n",
      "UNKNOWN     1.23\n",
      " N          0.12\n",
      "M           0.02\n",
      "2017        0.02\n",
      "N           0.02\n",
      "y           0.02\n",
      "Name: Fatal, dtype: float64 \n",
      "\n",
      "- - - - - - - - - - - - - - - - - - - - - - - - - - - - - - - - - - - - - \n",
      "\n"
     ]
    }
   ],
   "source": [
    "column_explore(df[\"Fatal\"])"
   ]
  },
  {
   "cell_type": "code",
   "execution_count": 29,
   "id": "225c6a41-4e5e-4f99-ad23-77d31da00008",
   "metadata": {},
   "outputs": [
    {
     "data": {
      "text/plain": [
       "array(['N', 'Y', nan, 'M', 'UNKNOWN', '2017'], dtype=object)"
      ]
     },
     "execution_count": 29,
     "metadata": {},
     "output_type": "execute_result"
    }
   ],
   "source": [
    "df[\"Fatal\"] = df[\"Fatal\"].str.strip()\n",
    "df[\"Fatal\"] = df[\"Fatal\"].str.upper()\n",
    "\n",
    "df[\"Fatal\"].unique()\n"
   ]
  },
  {
   "cell_type": "code",
   "execution_count": 30,
   "id": "d5ea37c5-c1cc-4ed0-8d43-4bafb7c3319d",
   "metadata": {},
   "outputs": [
    {
     "data": {
      "text/html": [
       "<div>\n",
       "<style scoped>\n",
       "    .dataframe tbody tr th:only-of-type {\n",
       "        vertical-align: middle;\n",
       "    }\n",
       "\n",
       "    .dataframe tbody tr th {\n",
       "        vertical-align: top;\n",
       "    }\n",
       "\n",
       "    .dataframe thead th {\n",
       "        text-align: right;\n",
       "    }\n",
       "</style>\n",
       "<table border=\"1\" class=\"dataframe\">\n",
       "  <thead>\n",
       "    <tr style=\"text-align: right;\">\n",
       "      <th></th>\n",
       "      <th>Date</th>\n",
       "      <th>Year</th>\n",
       "      <th>Type</th>\n",
       "      <th>Country</th>\n",
       "      <th>Area</th>\n",
       "      <th>Location</th>\n",
       "      <th>Activity</th>\n",
       "      <th>Name</th>\n",
       "      <th>Sex</th>\n",
       "      <th>Age</th>\n",
       "      <th>Injury</th>\n",
       "      <th>Fatal</th>\n",
       "      <th>Time</th>\n",
       "      <th>Species</th>\n",
       "      <th>month</th>\n",
       "    </tr>\n",
       "  </thead>\n",
       "  <tbody>\n",
       "    <tr>\n",
       "      <th>0</th>\n",
       "      <td>25-Jun-2018</td>\n",
       "      <td>2018</td>\n",
       "      <td>Boating</td>\n",
       "      <td>USA</td>\n",
       "      <td>California</td>\n",
       "      <td>Oceanside, San Diego County</td>\n",
       "      <td>Paddling</td>\n",
       "      <td>Julie Wolfe</td>\n",
       "      <td>F</td>\n",
       "      <td>57</td>\n",
       "      <td>No injury to occupant, outrigger canoe and pad...</td>\n",
       "      <td>N</td>\n",
       "      <td>18h00</td>\n",
       "      <td>White shark</td>\n",
       "      <td>Jun</td>\n",
       "    </tr>\n",
       "    <tr>\n",
       "      <th>1</th>\n",
       "      <td>18-Jun-2018</td>\n",
       "      <td>2018</td>\n",
       "      <td>Unprovoked</td>\n",
       "      <td>USA</td>\n",
       "      <td>Georgia</td>\n",
       "      <td>St. Simon Island, Glynn County</td>\n",
       "      <td>Standing</td>\n",
       "      <td>Adyson McNeely</td>\n",
       "      <td>F</td>\n",
       "      <td>11</td>\n",
       "      <td>Minor injury to left thigh</td>\n",
       "      <td>N</td>\n",
       "      <td>14h00  -15h00</td>\n",
       "      <td>NaN</td>\n",
       "      <td>Jun</td>\n",
       "    </tr>\n",
       "    <tr>\n",
       "      <th>2</th>\n",
       "      <td>09-Jun-2018</td>\n",
       "      <td>2018</td>\n",
       "      <td>Invalid</td>\n",
       "      <td>USA</td>\n",
       "      <td>Hawaii</td>\n",
       "      <td>Habush, Oahu</td>\n",
       "      <td>Surfing</td>\n",
       "      <td>John Denges</td>\n",
       "      <td>M</td>\n",
       "      <td>48</td>\n",
       "      <td>Injury to left lower leg from surfboard skeg</td>\n",
       "      <td>N</td>\n",
       "      <td>07h45</td>\n",
       "      <td>NaN</td>\n",
       "      <td>Jun</td>\n",
       "    </tr>\n",
       "    <tr>\n",
       "      <th>3</th>\n",
       "      <td>08-Jun-2018</td>\n",
       "      <td>2018</td>\n",
       "      <td>Unprovoked</td>\n",
       "      <td>AUSTRALIA</td>\n",
       "      <td>New South Wales</td>\n",
       "      <td>Arrawarra Headland</td>\n",
       "      <td>Surfing</td>\n",
       "      <td>male</td>\n",
       "      <td>M</td>\n",
       "      <td>NaN</td>\n",
       "      <td>Minor injury to lower leg</td>\n",
       "      <td>N</td>\n",
       "      <td>NaN</td>\n",
       "      <td>2 m shark</td>\n",
       "      <td>Jun</td>\n",
       "    </tr>\n",
       "    <tr>\n",
       "      <th>4</th>\n",
       "      <td>04-Jun-2018</td>\n",
       "      <td>2018</td>\n",
       "      <td>Provoked</td>\n",
       "      <td>MEXICO</td>\n",
       "      <td>Colima</td>\n",
       "      <td>La Ticla</td>\n",
       "      <td>Free diving</td>\n",
       "      <td>Gustavo Ramos</td>\n",
       "      <td>M</td>\n",
       "      <td>NaN</td>\n",
       "      <td>Lacerations to leg &amp; hand shark PROVOKED INCIDENT</td>\n",
       "      <td>N</td>\n",
       "      <td>NaN</td>\n",
       "      <td>Tiger shark, 3m</td>\n",
       "      <td>Jun</td>\n",
       "    </tr>\n",
       "  </tbody>\n",
       "</table>\n",
       "</div>"
      ],
      "text/plain": [
       "          Date  Year        Type    Country             Area  \\\n",
       "0  25-Jun-2018  2018     Boating        USA       California   \n",
       "1  18-Jun-2018  2018  Unprovoked        USA          Georgia   \n",
       "2  09-Jun-2018  2018     Invalid        USA           Hawaii   \n",
       "3  08-Jun-2018  2018  Unprovoked  AUSTRALIA  New South Wales   \n",
       "4  04-Jun-2018  2018    Provoked     MEXICO           Colima   \n",
       "\n",
       "                         Location     Activity             Name Sex  Age  \\\n",
       "0     Oceanside, San Diego County     Paddling      Julie Wolfe   F   57   \n",
       "1  St. Simon Island, Glynn County     Standing  Adyson McNeely    F   11   \n",
       "2                    Habush, Oahu      Surfing      John Denges   M   48   \n",
       "3              Arrawarra Headland      Surfing             male   M  NaN   \n",
       "4                        La Ticla  Free diving   Gustavo Ramos    M  NaN   \n",
       "\n",
       "                                              Injury Fatal           Time  \\\n",
       "0  No injury to occupant, outrigger canoe and pad...     N          18h00   \n",
       "1                         Minor injury to left thigh     N  14h00  -15h00   \n",
       "2       Injury to left lower leg from surfboard skeg     N          07h45   \n",
       "3                          Minor injury to lower leg     N            NaN   \n",
       "4  Lacerations to leg & hand shark PROVOKED INCIDENT     N            NaN   \n",
       "\n",
       "           Species month  \n",
       "0      White shark   Jun  \n",
       "1              NaN   Jun  \n",
       "2              NaN   Jun  \n",
       "3        2 m shark   Jun  \n",
       "4  Tiger shark, 3m   Jun  "
      ]
     },
     "execution_count": 30,
     "metadata": {},
     "output_type": "execute_result"
    }
   ],
   "source": [
    "df.head()"
   ]
  },
  {
   "cell_type": "code",
   "execution_count": 32,
   "id": "3948b06e-9757-4452-8da3-ac6de5766780",
   "metadata": {},
   "outputs": [
    {
     "name": "stdout",
     "output_type": "stream",
     "text": [
      "TOTAL NUMBER OF ROWS:  6302 \n",
      "\n",
      "- - - - - - - - - - - - - - - - - - - - - - - - - - - - - - - - - - - - -\n",
      "\n",
      "NUMBER OF UNIQUE VALUES: 5 \n",
      "\n",
      "- - - - - - - - - - - - - - - - - - - - - - - - - - - - - - - - - - - - - \n",
      "\n",
      "NUMBER OF UNIQUE VALUES DIVIDED BY TOTAL VALUES: 0.08 %\n",
      "\n",
      "- - - - - - - - - - - - - - - - - - - - - - - - - - - - - - - - - - - - - \n",
      "\n",
      "% OF NAN VALUES IS:  8.55 %\n",
      "\n",
      "- - - - - - - - - - - - - - - - - - - - - - - - - - - - - - - - - - - - - \n",
      "\n",
      "COLUMN DATA TYPE:  object \n",
      "\n",
      "- - - - - - - - - - - - - - - - - - - - - - - - - - - - - - - - - - - - - \n",
      "\n",
      "COLUMN UNIQUE VALUES: \n",
      " \n",
      " ['N' 'Y' nan 'M' 'UNKNOWN' '2017'] \n",
      "\n",
      "- - - - - - - - - - - - - - - - - - - - - - - - - - - - - - - - - - - - - \n",
      "\n",
      "VARIABLE WEIGHT WITHIN THE TOTAL OF THE COLUMN: \n",
      " \n",
      " N          74.63\n",
      "Y          24.10\n",
      "UNKNOWN     1.23\n",
      "M           0.02\n",
      "2017        0.02\n",
      "Name: Fatal, dtype: float64 \n",
      "\n",
      "- - - - - - - - - - - - - - - - - - - - - - - - - - - - - - - - - - - - - \n",
      "\n"
     ]
    }
   ],
   "source": [
    "# Trying to fill blanks in fatal with loop\n",
    "\n",
    "\n",
    "#ASK IN CLASS\n",
    "'''\n",
    "for i in df[\"injury\"]:\n",
    "    if df[\"Fatal\"] == \"\" and \"fatal\" in i.lower():\n",
    "        df[\"Fatal\"] = \"Y\"\n",
    "    elif df[\"Fatal\"] == \"\" and \"fatal\" not in i.lower():\n",
    "        df[\"Fatal\"] = \"N\"\n",
    "'''   \n",
    "\n",
    "for index, row in df.iterrows():\n",
    "    if df.at[index, \"Fatal\"] == \"\" and \"fatal\" in row[\"Injury\"].lower():\n",
    "        df.at[index, \"Fatal\"] = \"Y\"\n",
    "    elif df.at[index, \"Fatal\"] == \"\" and \"fatal\" not in row[\"Injury\"].lower():\n",
    "        df.at[index, \"Fatal\"] = \"N\"\n",
    "\n",
    "column_explore(df[\"Fatal\"])\n",
    "        \n",
    "        \n",
    "\n",
    "\n"
   ]
  },
  {
   "cell_type": "markdown",
   "id": "332c6b61-cda3-4dc0-b745-3c29515d363d",
   "metadata": {},
   "source": [
    "## Remove duplicate values\n",
    "\n",
    "First, a quick check of the duplicated values of the df:"
   ]
  },
  {
   "cell_type": "code",
   "execution_count": 39,
   "id": "309bef0e-5a82-47f2-b285-d168f4c8326c",
   "metadata": {},
   "outputs": [
    {
     "data": {
      "text/plain": [
       "2"
      ]
     },
     "execution_count": 39,
     "metadata": {},
     "output_type": "execute_result"
    }
   ],
   "source": [
    "df.duplicated().sum()"
   ]
  },
  {
   "cell_type": "markdown",
   "id": "cfd9e83a-fe41-473e-8dae-aed52849f350",
   "metadata": {},
   "source": [
    "Now, we remove this duplicated values"
   ]
  },
  {
   "cell_type": "code",
   "execution_count": 42,
   "id": "168e74a0-2bcb-485b-9d4f-3c126ea5c097",
   "metadata": {},
   "outputs": [
    {
     "data": {
      "text/plain": [
       "0"
      ]
     },
     "execution_count": 42,
     "metadata": {},
     "output_type": "execute_result"
    }
   ],
   "source": [
    "# Drop duplicates link: https://pandas.pydata.org/docs/reference/api/pandas.DataFrame.drop_duplicates.html\n",
    "\n",
    "df.drop_duplicates(inplace=True)\n",
    "df.duplicated().sum()\n"
   ]
  },
  {
   "cell_type": "markdown",
   "id": "d5e55b48-206c-458d-8e55-aca6a2551c70",
   "metadata": {},
   "source": [
    "## Exporting cleaned data"
   ]
  },
  {
   "cell_type": "code",
   "execution_count": 43,
   "id": "40ba8ce9-deec-427d-9d74-1e6b4d8a0024",
   "metadata": {},
   "outputs": [],
   "source": [
    "df.to_csv(r\"C:\\Users\\DavidVicente\\Desktop\\IronHack\\Projects\\Project 1\\clean_df.csv\", index= False)"
   ]
  },
  {
   "cell_type": "code",
   "execution_count": null,
   "id": "af145ef3-c97b-4919-bee8-7f25fb4e758d",
   "metadata": {},
   "outputs": [],
   "source": []
  },
  {
   "cell_type": "code",
   "execution_count": null,
   "id": "89ef389a-df00-4249-94b6-7adec20001b5",
   "metadata": {},
   "outputs": [],
   "source": []
  }
 ],
 "metadata": {
  "kernelspec": {
   "display_name": "Python 3 (ipykernel)",
   "language": "python",
   "name": "python3"
  },
  "language_info": {
   "codemirror_mode": {
    "name": "ipython",
    "version": 3
   },
   "file_extension": ".py",
   "mimetype": "text/x-python",
   "name": "python",
   "nbconvert_exporter": "python",
   "pygments_lexer": "ipython3",
   "version": "3.9.12"
  },
  "toc-autonumbering": true
 },
 "nbformat": 4,
 "nbformat_minor": 5
}
