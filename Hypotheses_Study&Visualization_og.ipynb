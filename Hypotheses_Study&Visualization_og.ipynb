{
 "cells": [
  {
   "cell_type": "markdown",
   "id": "5baebafb-b6bc-40ed-82c1-8a873a13f4b6",
   "metadata": {},
   "source": [
    "# Importing libraries & data"
   ]
  },
  {
   "cell_type": "code",
   "execution_count": 1,
   "id": "3e707ad3-3082-4899-8609-7f40149835c3",
   "metadata": {},
   "outputs": [],
   "source": [
    "# Libraries\n",
    "\n",
    "import seaborn as sns\n",
    "import matplotlib.pyplot as plt\n",
    "import pandas as pd\n",
    "import numpy as np\n",
    "\n",
    "# Data\n",
    "\n",
    "df = pd.read_csv(r\"C:\\Users\\DavidVicente\\Desktop\\IronHack\\Projects\\Project 1\\clean_df.csv\")\n"
   ]
  },
  {
   "cell_type": "markdown",
   "id": "ef3ed6bd-3ce2-472f-bad8-6b79821b642b",
   "metadata": {},
   "source": [
    "## Checking data types"
   ]
  },
  {
   "cell_type": "markdown",
   "id": "a014c1cf-fbd0-4891-8e64-3c4eaf05630f",
   "metadata": {},
   "source": [
    "After checking the data type of each column, we have decided to change the data type of Year to int and Fatal to boolean"
   ]
  },
  {
   "cell_type": "code",
   "execution_count": 2,
   "id": "8bcafdb2-8835-467e-8492-8092046e3f91",
   "metadata": {},
   "outputs": [],
   "source": [
    "#Link: https://pandas.pydata.org/docs/reference/api/pandas.Series.str.split.html\n",
    "\n",
    "df[\"Year\"] = df[\"Year\"].astype(\"str\").str.split(\".\").str[0]"
   ]
  },
  {
   "cell_type": "markdown",
   "id": "ec1bfba8-1e1b-48d9-a4de-93ba180c3754",
   "metadata": {},
   "source": [
    "# Hypothesis 1: Is surfing the more fatal than fishing and swimming?"
   ]
  },
  {
   "cell_type": "markdown",
   "id": "8ec3e2cf-92bb-49ec-b12a-f51673bba508",
   "metadata": {},
   "source": [
    "## Setting the values from the columns"
   ]
  },
  {
   "cell_type": "code",
   "execution_count": 3,
   "id": "b30cec4f-c3b4-4bb9-b293-8fa90337e8b8",
   "metadata": {},
   "outputs": [],
   "source": [
    "def column_check (x):\n",
    "    \n",
    "    print(\"TOTAL NUMBER OF ROWS: \",len(x),\"\\n\")\n",
    "    print(\"- - - - - - - - - - - - - - - - - - - - - - - - - - - - - - - - - - - - -\\n\")\n",
    "    print(\"NUMBER OF UNIQUE VALUES:\",x.nunique(),\"\\n\")\n",
    "    print(\"- - - - - - - - - - - - - - - - - - - - - - - - - - - - - - - - - - - - - \\n\")\n",
    "    print(\"% OF NAN VALUES IS: \",round(100*(x.isnull().sum() / len(x)),2),\"%\\n\")\n",
    "    print(\"- - - - - - - - - - - - - - - - - - - - - - - - - - - - - - - - - - - - - \\n\")\n",
    "    print(\"VARIABLE WEIGHT WITHIN THE TOTAL OF THE COLUMN: \\n \\n\",round((x.value_counts() / x.value_counts().sum())*100,2),\"\\n\")\n",
    "    print(\"- - - - - - - - - - - - - - - - - - - - - - - - - - - - - - - - - - - - - \\n\")"
   ]
  },
  {
   "cell_type": "code",
   "execution_count": 4,
   "id": "4223c47a-a702-4c07-8116-1ec5ca848ab0",
   "metadata": {},
   "outputs": [],
   "source": [
    "df[\"Activity_2\"] = df[\"Activity\"].astype(\"str\").str.split(\" \").str[0]\n",
    "df[\"Activity_2\"] = df[\"Activity_2\"].astype(\"str\").str.split(\",\").str[0]"
   ]
  },
  {
   "cell_type": "code",
   "execution_count": 5,
   "id": "22b145c7-e05f-46b2-ad87-4c0b3c049d92",
   "metadata": {},
   "outputs": [],
   "source": [
    "for i in range(len(df)):\n",
    "    if df.loc[i, 'Activity_2'] == 'Spearfishing':\n",
    "        df.loc[i, 'Activity_2'] = 'Fishing'\n"
   ]
  },
  {
   "cell_type": "code",
   "execution_count": 6,
   "id": "b23bb85d-45a1-4b95-89f0-2f616fc5ca86",
   "metadata": {},
   "outputs": [],
   "source": [
    "# Cleaning activity\n",
    "\n",
    "top_activity_list = [\"Swimming\",\"Surfing\",\"Fishing\"]\n",
    "\n",
    "for i in range(len(df)):\n",
    "    if df.loc[i, 'Activity_2'] not in top_activity_list:\n",
    "        df.loc[i, 'Activity_2'] = 'Other_activity'\n",
    "        \n",
    "# Also cleaning Fatal column\n",
    "\n",
    "fatal_list = [\"Y\",\"N\"]\n",
    "\n",
    "for i in range(len(df)):\n",
    "    if df.loc[i, 'Fatal'] not in fatal_list:\n",
    "        df.loc[i, 'Fatal'] = \"no_info\"\n"
   ]
  },
  {
   "cell_type": "markdown",
   "id": "38788261-73b9-491d-805d-1f89d9f35b91",
   "metadata": {},
   "source": [
    "## Creating an ad-hoc df for visualization"
   ]
  },
  {
   "cell_type": "code",
   "execution_count": 7,
   "id": "2a020885-c037-4a94-b4ea-04ec2c12cb87",
   "metadata": {},
   "outputs": [],
   "source": [
    "Activity = df[ (df['Activity_2'] == \"Swimming\") | (df['Activity_2'] == \"Fishing\") | (df['Activity_2'] == \"Surfing\") ]\n",
    "Activity = Activity[ (Activity['Fatal'] == \"Y\") | (Activity['Fatal'] == \"N\") ]"
   ]
  },
  {
   "cell_type": "code",
   "execution_count": 8,
   "id": "dcd39915-2b8f-4caa-afa8-13ae77117e31",
   "metadata": {},
   "outputs": [],
   "source": [
    "Activity[\"new\"] = Activity[\"Fatal\"].apply(lambda x: 0 if x == \"N\" else 1)"
   ]
  },
  {
   "cell_type": "code",
   "execution_count": 9,
   "id": "75f0a74c-59be-49ca-93ef-7332926cd631",
   "metadata": {},
   "outputs": [],
   "source": [
    "Fatal_activity_percentage = pd.crosstab(Activity.Activity_2, Activity.Fatal).apply(lambda r: round(r/r.sum() * 100,2), axis=1)\n"
   ]
  },
  {
   "cell_type": "code",
   "execution_count": 10,
   "id": "dd5c9f9c-2276-4090-b02b-a46fbedebd76",
   "metadata": {},
   "outputs": [],
   "source": [
    "Fatal_activity_2 = Activity.groupby([\"Activity_2\"])[\"Fatal\"].count()\n"
   ]
  },
  {
   "cell_type": "markdown",
   "id": "75759038-dfee-4937-9846-0c9277a7947a",
   "metadata": {},
   "source": [
    "## Visualization"
   ]
  },
  {
   "cell_type": "markdown",
   "id": "b0987cc6-c1b4-4b77-87cf-1cbd6cac6459",
   "metadata": {},
   "source": [
    "In this graph, we want to check the number of attacks per activity"
   ]
  },
  {
   "cell_type": "code",
   "execution_count": 11,
   "id": "b5d3b5e1-d9b4-4b6b-9204-8d8091e87040",
   "metadata": {},
   "outputs": [
    {
     "data": {
      "image/png": "[encoded data removed]",
      "text/plain": [
       "<Figure size 720x504 with 1 Axes>"
      ]
     },
     "metadata": {
      "needs_background": "light"
     },
     "output_type": "display_data"
    }
   ],
   "source": [
    "# Creating a bar plot\n",
    "\n",
    "Fatal_activity_2.plot(kind=\"bar\", stacked=True, figsize = (10,7), title= \"NUMBER OF ATTACKS PER ACTIVITY\", xlabel = \"Activity\",ylabel = \"Total number of attacks\"\n",
    " )\n",
    "\n",
    "plt.show()\n"
   ]
  },
  {
   "cell_type": "markdown",
   "id": "d3f534eb-17c6-4e49-b2d0-603d3b8c7631",
   "metadata": {},
   "source": [
    "As we can see in the plot above, we have nearly the same shark attacks for the three activities"
   ]
  },
  {
   "cell_type": "code",
   "execution_count": 12,
   "id": "d70f0932-6c94-4569-b218-0ab2649b5f68",
   "metadata": {},
   "outputs": [
    {
     "data": {
      "image/png": "[encoded data removed]",
      "text/plain": [
       "<Figure size 720x432 with 1 Axes>"
      ]
     },
     "metadata": {
      "needs_background": "light"
     },
     "output_type": "display_data"
    }
   ],
   "source": [
    "Fatal_activity_percentage.plot(kind=\"barh\", stacked=True, figsize = (10,6), title='PROPORTION OF FATAL \"Y\" & NON FATAL \"N\" ATTACKS OVER THE TOTAL', legend=4)\n",
    "\n",
    "plt.show()"
   ]
  },
  {
   "cell_type": "markdown",
   "id": "27de1eb5-e828-4f6b-b01e-f405cb55890a",
   "metadata": {},
   "source": [
    "On the other hand, as seen in this graph, an attack while swimming has way more probabilities to be fatal"
   ]
  },
  {
   "cell_type": "markdown",
   "id": "c81ff76b-2107-41e9-ae52-df64e2d9ff94",
   "metadata": {},
   "source": [
    "# Hypothesis 2: Which is the most dangerous Q?"
   ]
  },
  {
   "cell_type": "markdown",
   "id": "e2f94b80-d7cb-4ff0-8c7d-ad6d44e0c798",
   "metadata": {},
   "source": [
    "For this hypothesis, we will need to create a new column that groups the month of the attack into a Q"
   ]
  },
  {
   "cell_type": "markdown",
   "id": "4a5591fa-d222-4df7-8316-95f1d92c74d1",
   "metadata": {},
   "source": [
    "## Creating new column \"Q\"\n",
    "\n",
    "To do so, we have to create a dictionary with the Q to apply to each month"
   ]
  },
  {
   "cell_type": "code",
   "execution_count": 13,
   "id": "4c123b44-5fb4-4722-abcb-582b30894bf6",
   "metadata": {},
   "outputs": [],
   "source": [
    "#Creating dictionary\n",
    "\n",
    "q_dict = {\"Jan\":\"Q1\",\"Feb\":\"Q1\",\"Mar\":\"Q1\",\"Apr\":\"Q2\",\"May\":\"Q2\",\"Jun\":\"Q2\",\"Jul\":\"Q3\",\"Aug\":\"Q3\",\"Sep\":\"Q3\",\"Oct\":\"Q4\",\"Nov\":\"Q4\",\"Dec\":\"Q4\",\"month_not_found\":\"Q_not_found\"}\n",
    "\n",
    "'''\n",
    "for i in range(len(df)):\n",
    "    if df.loc[i, 'month'] in q_dict:\n",
    "        df.loc[i, 'Q'] = q_dict.values()\n",
    "\n",
    "df[\"Q\"]\n",
    "\n",
    "#print(q_dict.values())\n",
    "'''\n",
    "\n",
    "df[\"Q\"] = df[\"month\"].apply(lambda x: q_dict[x] )\n"
   ]
  },
  {
   "cell_type": "markdown",
   "id": "3bbae7d7-c1fa-4a8e-bbc8-96947215000d",
   "metadata": {},
   "source": [
    "Creating specific dataframe with informed values"
   ]
  },
  {
   "cell_type": "code",
   "execution_count": 14,
   "id": "e4ad30db-cf40-40fc-87ba-793295058354",
   "metadata": {},
   "outputs": [
    {
     "data": {
      "text/plain": [
       "(4898, 2)"
      ]
     },
     "execution_count": 14,
     "metadata": {},
     "output_type": "execute_result"
    }
   ],
   "source": [
    "# Filtering \n",
    "\n",
    "#df_q = df[ (df['Q'] == \"Q1\") | (df['Q'] == \"Q2\") | (df['Q'] == \"Q3\") | (df['Q'] == \"Q4\") &]\n",
    "\n",
    "df_q = df[(df[\"Q\"] != \"Q_not_found\" ) & (df[\"Fatal\"] != \"no_info\") ]\n",
    "\n",
    "df_q[[\"Q\",\"Activity_2\"]].shape\n"
   ]
  },
  {
   "cell_type": "code",
   "execution_count": 15,
   "id": "1b6b41a4-1d15-406b-87c7-f02024a737c0",
   "metadata": {},
   "outputs": [],
   "source": [
    "Q_fatal_percentage = pd.crosstab(df_q.Q, df_q.Fatal).apply(lambda r: round(r/r.sum() * 100,2), axis=1)\n"
   ]
  },
  {
   "cell_type": "markdown",
   "id": "f94ee30d-c9a5-40b5-a5ab-b27bfee9869e",
   "metadata": {},
   "source": [
    "## Visualization"
   ]
  },
  {
   "cell_type": "code",
   "execution_count": 16,
   "id": "826e8e27-ac7e-437a-962f-c32fc03d8b15",
   "metadata": {},
   "outputs": [
    {
     "data": {
      "image/png": "[encoded data removed]",
      "text/plain": [
       "<Figure size 720x432 with 1 Axes>"
      ]
     },
     "metadata": {
      "needs_background": "light"
     },
     "output_type": "display_data"
    }
   ],
   "source": [
    "Q_fatal_percentage.plot(kind=\"barh\", stacked=True, figsize = (10,6), title='PROPORTION OF FATAL \"Y\" & NON FATAL \"N\" ATTACKS OVER THE TOTAL by Q', legend=4)\n",
    "plt.show()"
   ]
  },
  {
   "cell_type": "code",
   "execution_count": 17,
   "id": "86fc55cc-810d-4623-be09-5bb112c98f50",
   "metadata": {},
   "outputs": [],
   "source": [
    "Q_fatal_2 = pd.crosstab(df_q.Q, df_q.Fatal).agg(\"sum\")\n"
   ]
  },
  {
   "cell_type": "code",
   "execution_count": 18,
   "id": "182e6c64-8e4c-472a-983f-42adbb41823d",
   "metadata": {},
   "outputs": [],
   "source": [
    "Q_fatal_25 = df_q.groupby(\"Q\")[\"Fatal\"].count()\n"
   ]
  },
  {
   "cell_type": "code",
   "execution_count": 20,
   "id": "61d559f6-1ba6-4f23-9905-4a5468451b4e",
   "metadata": {},
   "outputs": [
    {
     "data": {
      "image/png": "[encoded data removed]",
      "text/plain": [
       "<Figure size 720x432 with 1 Axes>"
      ]
     },
     "metadata": {
      "needs_background": "light"
     },
     "output_type": "display_data"
    }
   ],
   "source": [
    "Q_fatal_25.plot(kind=\"barh\", stacked=True, figsize = (10,6), title='TOTAL NUMBER OF ATTACKS IN EACH Q', sort_columns=False,color=\"green\", xlabel = \"Q agreggation\", ylabel = \"Total number of attacks\")\n",
    "\n",
    "\n",
    "plt.show()"
   ]
  },
  {
   "cell_type": "code",
   "execution_count": 21,
   "id": "d5e9d85e-a689-4bd1-bae8-82c736ab3500",
   "metadata": {},
   "outputs": [
    {
     "data": {
      "image/png": "[encoded data removed]",
      "text/plain": [
       "<Figure size 1080x720 with 1 Axes>"
      ]
     },
     "metadata": {},
     "output_type": "display_data"
    }
   ],
   "source": [
    "# https://www.pythoncharts.com/matplotlib/pie-chart-matplotlib/\n",
    "\n",
    "\n",
    "Q_fatal_25.plot(kind=\"pie\", stacked=True, figsize = (15,10), title='TOTAL NUMBER OF ATTACKS IN EACH Q', sort_columns=False, autopct='%.1f%%')\n",
    "\n",
    "plt.legend(prop={'size': 20})\n",
    "\n",
    "\n",
    "plt.show()"
   ]
  },
  {
   "cell_type": "markdown",
   "id": "10777186-c3a3-4778-b58d-a1b38c7bdf31",
   "metadata": {},
   "source": [
    "# Hypothesis 3: Is Surfing in Australia more dangerous than in USA?"
   ]
  },
  {
   "cell_type": "markdown",
   "id": "fcbccf75-4bd6-44f6-8d52-7b07cdccd37a",
   "metadata": {},
   "source": [
    "## Creating a new df with \"Surfers from AUSTRALIA & USA\""
   ]
  },
  {
   "cell_type": "code",
   "execution_count": 22,
   "id": "e629b33c-7be4-4833-8ccb-5e11d12d407a",
   "metadata": {},
   "outputs": [],
   "source": [
    "\n",
    "surfing_aus_usa = df[((df[\"Country\"] == \"USA\") | (df[\"Country\"] == \"AUSTRALIA\")) & ((df[\"Q\"] != \"Q_not_found\" ) & (df[\"Fatal\"] != \"no_info\")) & (df[\"Activity_2\"] == \"Surfing\") ]\n"
   ]
  },
  {
   "cell_type": "markdown",
   "id": "4f10441a-d37b-44d4-b4d9-bdc1693091ea",
   "metadata": {},
   "source": [
    "We only have 733 rows! Probably not enough sample :( "
   ]
  },
  {
   "cell_type": "markdown",
   "id": "15b2bdc2-d224-46c6-8397-5d42101a985f",
   "metadata": {},
   "source": [
    "## Visualization"
   ]
  },
  {
   "cell_type": "code",
   "execution_count": 23,
   "id": "13d60132-e301-4afd-96c7-ea21c8abaad0",
   "metadata": {},
   "outputs": [],
   "source": [
    "# link: https://realpython.com/pandas-groupby/\n",
    "\n",
    "# EXAMPLE: df.groupby([\"state\", \"gender\"], as_index=False)[\"last_name\"].count()\n",
    "\n",
    "surfing_groupby = surfing_aus_usa.groupby([\"Country\"])[\"Fatal\"].count()\n"
   ]
  },
  {
   "cell_type": "code",
   "execution_count": 24,
   "id": "f6436bd4-21ad-4d5d-bacd-4a4c6e4b2e19",
   "metadata": {},
   "outputs": [
    {
     "data": {
      "image/png": "[encoded data removed]",
      "text/plain": [
       "<Figure size 720x432 with 1 Axes>"
      ]
     },
     "metadata": {
      "needs_background": "light"
     },
     "output_type": "display_data"
    }
   ],
   "source": [
    "surfing_groupby.plot(kind=\"barh\", color=\"darkblue\", figsize = (10,6))\n",
    "\n",
    "plt.show()"
   ]
  },
  {
   "cell_type": "code",
   "execution_count": 25,
   "id": "d4ac5379-4e69-4e50-a272-3ed3dab44b86",
   "metadata": {},
   "outputs": [],
   "source": [
    "fatal_surfing = surfing_aus_usa[surfing_aus_usa[\"Fatal\"] == \"Y\"]"
   ]
  },
  {
   "cell_type": "markdown",
   "id": "630cd93c-6380-4f8e-8b2c-2ad2acf3180d",
   "metadata": {},
   "source": [
    "We can't take a look at the fatal attacks since we just have 21 cases, so we will stick with attacks in general "
   ]
  },
  {
   "cell_type": "code",
   "execution_count": null,
   "id": "9b800bdc-832e-4b2c-920a-e45c880eea59",
   "metadata": {},
   "outputs": [],
   "source": []
  }
 ],
 "metadata": {
  "kernelspec": {
   "display_name": "Python 3 (ipykernel)",
   "language": "python",
   "name": "python3"
  },
  "language_info": {
   "codemirror_mode": {
    "name": "ipython",
    "version": 3
   },
   "file_extension": ".py",
   "mimetype": "text/x-python",
   "name": "python",
   "nbconvert_exporter": "python",
   "pygments_lexer": "ipython3",
   "version": "3.9.12"
  }
 },
 "nbformat": 4,
 "nbformat_minor": 5
}
